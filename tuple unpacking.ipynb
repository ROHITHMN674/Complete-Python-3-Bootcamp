{
 "cells": [
  {
   "cell_type": "code",
   "execution_count": 2,
   "id": "2f60e085",
   "metadata": {},
   "outputs": [],
   "source": [
    "stock_prices=[('appl',200),('mango',300),('fami',700)]"
   ]
  },
  {
   "cell_type": "code",
   "execution_count": 4,
   "id": "3eb68333",
   "metadata": {},
   "outputs": [
    {
     "name": "stdout",
     "output_type": "stream",
     "text": [
      "('appl', 200)\n",
      "('mango', 300)\n",
      "('fami', 700)\n"
     ]
    }
   ],
   "source": [
    "for items in stock_prices:\n",
    "   print(items)"
   ]
  },
  {
   "cell_type": "code",
   "execution_count": 8,
   "id": "66352bfc",
   "metadata": {},
   "outputs": [
    {
     "name": "stdout",
     "output_type": "stream",
     "text": [
      "appl\n",
      "mango\n",
      "fami\n"
     ]
    }
   ],
   "source": [
    "for stock,prices in stock_prices:\n",
    "   print(stock)"
   ]
  },
  {
   "cell_type": "code",
   "execution_count": null,
   "id": "dc051b68",
   "metadata": {},
   "outputs": [],
   "source": []
  },
  {
   "cell_type": "code",
   "execution_count": 9,
   "id": "0f452d92",
   "metadata": {},
   "outputs": [],
   "source": [
    "work_hours=[('sammy',100),('fagh',400),('hari',1000)]"
   ]
  },
  {
   "cell_type": "code",
   "execution_count": 30,
   "id": "46b9c792",
   "metadata": {},
   "outputs": [],
   "source": [
    "def employee_check(work_hours):\n",
    "\n",
    "    current_max=0\n",
    "    employee_of_month=''\n",
    " \n",
    "    for employee,hours in work_hours:\n",
    "        if hours>current_max:\n",
    "            current_max=hours\n",
    "            employee_of_month=employee\n",
    "        else:\n",
    "            pass\n",
    "        \n",
    "        return(employee_of_month,current_max)"
   ]
  },
  {
   "cell_type": "code",
   "execution_count": 32,
   "id": "8c1792f3",
   "metadata": {},
   "outputs": [],
   "source": [
    "result=employee_check(work_hours)"
   ]
  },
  {
   "cell_type": "code",
   "execution_count": 33,
   "id": "9a301e3f",
   "metadata": {},
   "outputs": [
    {
     "data": {
      "text/plain": [
       "('sammy', 100)"
      ]
     },
     "execution_count": 33,
     "metadata": {},
     "output_type": "execute_result"
    }
   ],
   "source": [
    "result"
   ]
  },
  {
   "cell_type": "code",
   "execution_count": 39,
   "id": "69629ff8",
   "metadata": {},
   "outputs": [],
   "source": [
    "name,hours=employee_check(work_hours)"
   ]
  },
  {
   "cell_type": "code",
   "execution_count": 36,
   "id": "0e85616f",
   "metadata": {},
   "outputs": [
    {
     "data": {
      "text/plain": [
       "'sammy'"
      ]
     },
     "execution_count": 36,
     "metadata": {},
     "output_type": "execute_result"
    }
   ],
   "source": [
    "\n",
    "name"
   ]
  },
  {
   "cell_type": "code",
   "execution_count": 37,
   "id": "84626cb8",
   "metadata": {},
   "outputs": [
    {
     "data": {
      "text/plain": [
       "('sammy', 100)"
      ]
     },
     "execution_count": 37,
     "metadata": {},
     "output_type": "execute_result"
    }
   ],
   "source": [
    "name,hours"
   ]
  },
  {
   "cell_type": "code",
   "execution_count": null,
   "id": "1750c5af",
   "metadata": {},
   "outputs": [],
   "source": []
  }
 ],
 "metadata": {
  "kernelspec": {
   "display_name": "Python 3",
   "language": "python",
   "name": "python3"
  },
  "language_info": {
   "codemirror_mode": {
    "name": "ipython",
    "version": 3
   },
   "file_extension": ".py",
   "mimetype": "text/x-python",
   "name": "python",
   "nbconvert_exporter": "python",
   "pygments_lexer": "ipython3",
   "version": "3.8.8"
  }
 },
 "nbformat": 4,
 "nbformat_minor": 5
}
