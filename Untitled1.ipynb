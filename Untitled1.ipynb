{
 "cells": [
  {
   "cell_type": "code",
   "execution_count": 1,
   "id": "42ad67b3",
   "metadata": {},
   "outputs": [],
   "source": [
    "result = 2788/3455"
   ]
  },
  {
   "cell_type": "code",
   "execution_count": 2,
   "id": "26c25ba8",
   "metadata": {},
   "outputs": [
    {
     "data": {
      "text/plain": [
       "0.8069464544138929"
      ]
     },
     "execution_count": 2,
     "metadata": {},
     "output_type": "execute_result"
    }
   ],
   "source": [
    "result"
   ]
  },
  {
   "cell_type": "code",
   "execution_count": 5,
   "id": "e287a8e4",
   "metadata": {},
   "outputs": [
    {
     "name": "stdout",
     "output_type": "stream",
     "text": [
      "the result is 0.806946\n"
     ]
    }
   ],
   "source": [
    "print('the result is {r:8.6f}'.format(r=result))"
   ]
  },
  {
   "cell_type": "code",
   "execution_count": 6,
   "id": "bb03cb76",
   "metadata": {},
   "outputs": [],
   "source": [
    "name = 'samarth'"
   ]
  },
  {
   "cell_type": "code",
   "execution_count": 7,
   "id": "ae3d1b7e",
   "metadata": {},
   "outputs": [
    {
     "data": {
      "text/plain": [
       "'samarth'"
      ]
     },
     "execution_count": 7,
     "metadata": {},
     "output_type": "execute_result"
    }
   ],
   "source": [
    "name"
   ]
  },
  {
   "cell_type": "code",
   "execution_count": 9,
   "id": "aef90825",
   "metadata": {},
   "outputs": [
    {
     "name": "stdout",
     "output_type": "stream",
     "text": [
      "Hello, the name is samarth\n"
     ]
    }
   ],
   "source": [
    "print('Hello, the name is {}'.format(name))"
   ]
  },
  {
   "cell_type": "code",
   "execution_count": 11,
   "id": "e357d110",
   "metadata": {},
   "outputs": [
    {
     "name": "stdout",
     "output_type": "stream",
     "text": [
      "Hello, my name is {name}\n"
     ]
    }
   ],
   "source": [
    "print('Hello, my name is {name}')"
   ]
  },
  {
   "cell_type": "code",
   "execution_count": 12,
   "id": "215953f7",
   "metadata": {},
   "outputs": [],
   "source": [
    "name = 'sam'"
   ]
  },
  {
   "cell_type": "code",
   "execution_count": 13,
   "id": "3190d848",
   "metadata": {},
   "outputs": [
    {
     "data": {
      "text/plain": [
       "'sam'"
      ]
     },
     "execution_count": 13,
     "metadata": {},
     "output_type": "execute_result"
    }
   ],
   "source": [
    "name"
   ]
  },
  {
   "cell_type": "code",
   "execution_count": 15,
   "id": "60ddb378",
   "metadata": {},
   "outputs": [
    {
     "name": "stdout",
     "output_type": "stream",
     "text": [
      "Hello, my name is sam\n"
     ]
    }
   ],
   "source": [
    "print(f'Hello, my name is {name}')"
   ]
  },
  {
   "cell_type": "code",
   "execution_count": null,
   "id": "80fb315c",
   "metadata": {},
   "outputs": [],
   "source": []
  }
 ],
 "metadata": {
  "kernelspec": {
   "display_name": "Python 3",
   "language": "python",
   "name": "python3"
  },
  "language_info": {
   "codemirror_mode": {
    "name": "ipython",
    "version": 3
   },
   "file_extension": ".py",
   "mimetype": "text/x-python",
   "name": "python",
   "nbconvert_exporter": "python",
   "pygments_lexer": "ipython3",
   "version": "3.8.8"
  }
 },
 "nbformat": 4,
 "nbformat_minor": 5
}
