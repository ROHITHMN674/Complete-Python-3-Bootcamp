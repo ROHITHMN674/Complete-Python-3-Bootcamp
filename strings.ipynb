{
 "cells": [
  {
   "cell_type": "code",
   "execution_count": 1,
   "id": "dcf4a37f",
   "metadata": {},
   "outputs": [
    {
     "data": {
      "text/plain": [
       "'hello world'"
      ]
     },
     "execution_count": 1,
     "metadata": {},
     "output_type": "execute_result"
    }
   ],
   "source": [
    "\"hello world\""
   ]
  },
  {
   "cell_type": "code",
   "execution_count": 2,
   "id": "79cfb946",
   "metadata": {},
   "outputs": [
    {
     "data": {
      "text/plain": [
       "'hello sam'"
      ]
     },
     "execution_count": 2,
     "metadata": {},
     "output_type": "execute_result"
    }
   ],
   "source": [
    "'hello sam'"
   ]
  },
  {
   "cell_type": "code",
   "execution_count": 3,
   "id": "b62a1d2c",
   "metadata": {},
   "outputs": [
    {
     "data": {
      "text/plain": [
       "\"I 'am a boy'\""
      ]
     },
     "execution_count": 3,
     "metadata": {},
     "output_type": "execute_result"
    }
   ],
   "source": [
    "\"I 'am a boy'\""
   ]
  },
  {
   "cell_type": "code",
   "execution_count": 4,
   "id": "d077376d",
   "metadata": {},
   "outputs": [
    {
     "name": "stdout",
     "output_type": "stream",
     "text": [
      "hello world\n"
     ]
    }
   ],
   "source": [
    "print(\"hello world\")"
   ]
  },
  {
   "cell_type": "code",
   "execution_count": 5,
   "id": "a1c0a4fc",
   "metadata": {},
   "outputs": [
    {
     "name": "stdout",
     "output_type": "stream",
     "text": [
      "good boy\n",
      "world is my territory\n"
     ]
    }
   ],
   "source": [
    "print(\"good boy\")\n",
    "print(\"world is my territory\")"
   ]
  },
  {
   "cell_type": "code",
   "execution_count": 6,
   "id": "eb5b9004",
   "metadata": {},
   "outputs": [
    {
     "name": "stdout",
     "output_type": "stream",
     "text": [
      " world \n",
      " my territory\n"
     ]
    }
   ],
   "source": [
    "print(\" world \\n my territory\")"
   ]
  },
  {
   "cell_type": "code",
   "execution_count": 7,
   "id": "69a76953",
   "metadata": {},
   "outputs": [
    {
     "name": "stdout",
     "output_type": "stream",
     "text": [
      "hello \tworld\n"
     ]
    }
   ],
   "source": [
    "print(\"hello \\tworld\")"
   ]
  },
  {
   "cell_type": "code",
   "execution_count": 8,
   "id": "a554a4b9",
   "metadata": {},
   "outputs": [
    {
     "data": {
      "text/plain": [
       "11"
      ]
     },
     "execution_count": 8,
     "metadata": {},
     "output_type": "execute_result"
    }
   ],
   "source": [
    "len(\"kgf chapter\")"
   ]
  },
  {
   "cell_type": "code",
   "execution_count": 9,
   "id": "796989d9",
   "metadata": {},
   "outputs": [
    {
     "data": {
      "text/plain": [
       "7"
      ]
     },
     "execution_count": 9,
     "metadata": {},
     "output_type": "execute_result"
    }
   ],
   "source": [
    "len(\"puneeth\")"
   ]
  },
  {
   "cell_type": "code",
   "execution_count": 10,
   "id": "de744c99",
   "metadata": {},
   "outputs": [
    {
     "data": {
      "text/plain": [
       "21"
      ]
     },
     "execution_count": 10,
     "metadata": {},
     "output_type": "execute_result"
    }
   ],
   "source": [
    "len(\"i am awesome and good\")"
   ]
  },
  {
   "cell_type": "code",
   "execution_count": null,
   "id": "f4c00cde",
   "metadata": {},
   "outputs": [],
   "source": []
  }
 ],
 "metadata": {
  "kernelspec": {
   "display_name": "Python 3",
   "language": "python",
   "name": "python3"
  },
  "language_info": {
   "codemirror_mode": {
    "name": "ipython",
    "version": 3
   },
   "file_extension": ".py",
   "mimetype": "text/x-python",
   "name": "python",
   "nbconvert_exporter": "python",
   "pygments_lexer": "ipython3",
   "version": "3.8.8"
  }
 },
 "nbformat": 4,
 "nbformat_minor": 5
}
