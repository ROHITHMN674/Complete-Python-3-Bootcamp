{
 "cells": [
  {
   "cell_type": "code",
   "execution_count": 9,
   "id": "27af860d",
   "metadata": {},
   "outputs": [],
   "source": [
    "def even_list(num_list):\n",
    "    #return all even numbers in the list\n",
    "    \n",
    "    #placeholder  variables\n",
    "    even_numbers=[]\n",
    "    \n",
    "    for number in num_list:\n",
    "        if number%2==0:\n",
    "            even_numbers.append()\n",
    "        else:\n",
    "            pass\n",
    "        \n",
    "            return even_numbers"
   ]
  },
  {
   "cell_type": "code",
   "execution_count": 11,
   "id": "97979cc9",
   "metadata": {},
   "outputs": [
    {
     "data": {
      "text/plain": [
       "[]"
      ]
     },
     "execution_count": 11,
     "metadata": {},
     "output_type": "execute_result"
    }
   ],
   "source": [
    "even_list([1,2,3,4,5])"
   ]
  },
  {
   "cell_type": "code",
   "execution_count": null,
   "id": "26f617a7",
   "metadata": {},
   "outputs": [],
   "source": []
  },
  {
   "cell_type": "code",
   "execution_count": null,
   "id": "679621b5",
   "metadata": {},
   "outputs": [],
   "source": []
  }
 ],
 "metadata": {
  "kernelspec": {
   "display_name": "Python 3",
   "language": "python",
   "name": "python3"
  },
  "language_info": {
   "codemirror_mode": {
    "name": "ipython",
    "version": 3
   },
   "file_extension": ".py",
   "mimetype": "text/x-python",
   "name": "python",
   "nbconvert_exporter": "python",
   "pygments_lexer": "ipython3",
   "version": "3.8.8"
  }
 },
 "nbformat": 4,
 "nbformat_minor": 5
}
