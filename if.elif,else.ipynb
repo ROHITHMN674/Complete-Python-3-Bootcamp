{
 "cells": [
  {
   "cell_type": "code",
   "execution_count": 9,
   "id": "98fb72e1",
   "metadata": {},
   "outputs": [
    {
     "name": "stdout",
     "output_type": "stream",
     "text": [
      "leave me!\n"
     ]
    }
   ],
   "source": [
    "rich = False\n",
    "\n",
    "if rich:\n",
    "    print('make me!')\n",
    "else:\n",
    "    print('leave me!')"
   ]
  },
  {
   "cell_type": "code",
   "execution_count": 23,
   "id": "99c97ace",
   "metadata": {},
   "outputs": [
    {
     "name": "stdout",
     "output_type": "stream",
     "text": [
      "u dont know my password!\n"
     ]
    }
   ],
   "source": [
    "password = 'gohi'\n",
    "\n",
    "if password == 'Rohi':\n",
    "      print('its wrong password!')\n",
    "elif password == 'Pramo':\n",
    "      print('u got my password!')\n",
    "else:\n",
    "    print('u dont know my password!')"
   ]
  },
  {
   "cell_type": "code",
   "execution_count": null,
   "id": "bb2979ba",
   "metadata": {},
   "outputs": [],
   "source": []
  },
  {
   "cell_type": "code",
   "execution_count": null,
   "id": "b41d8180",
   "metadata": {},
   "outputs": [],
   "source": []
  }
 ],
 "metadata": {
  "kernelspec": {
   "display_name": "Python 3",
   "language": "python",
   "name": "python3"
  },
  "language_info": {
   "codemirror_mode": {
    "name": "ipython",
    "version": 3
   },
   "file_extension": ".py",
   "mimetype": "text/x-python",
   "name": "python",
   "nbconvert_exporter": "python",
   "pygments_lexer": "ipython3",
   "version": "3.8.8"
  }
 },
 "nbformat": 4,
 "nbformat_minor": 5
}
