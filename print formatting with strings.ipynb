{
 "cells": [
  {
   "cell_type": "code",
   "execution_count": 2,
   "id": "55524077",
   "metadata": {},
   "outputs": [
    {
     "name": "stdout",
     "output_type": "stream",
     "text": [
      "This is a string INSERTED\n"
     ]
    }
   ],
   "source": [
    "print('This is a string {}'.format('INSERTED'))"
   ]
  },
  {
   "cell_type": "code",
   "execution_count": 3,
   "id": "ceee8e33",
   "metadata": {},
   "outputs": [
    {
     "name": "stdout",
     "output_type": "stream",
     "text": [
      " fox brown stack\n"
     ]
    }
   ],
   "source": [
    "print(' {} {} {}'.format('fox', 'brown' , 'stack'))"
   ]
  },
  {
   "cell_type": "code",
   "execution_count": 5,
   "id": "7065e1ee",
   "metadata": {},
   "outputs": [
    {
     "name": "stdout",
     "output_type": "stream",
     "text": [
      "brown brown brown\n"
     ]
    }
   ],
   "source": [
    "print('{1} {1} {1}'.format('fox' , 'brown', 'stack'))"
   ]
  },
  {
   "cell_type": "code",
   "execution_count": 11,
   "id": "227fe361",
   "metadata": {},
   "outputs": [
    {
     "name": "stdout",
     "output_type": "stream",
     "text": [
      "The brown brown brown\n"
     ]
    }
   ],
   "source": [
    "print('The {b} {b} {b}'.format(f='fox',b='brown',s='stack'))"
   ]
  },
  {
   "cell_type": "code",
   "execution_count": null,
   "id": "78ebb70d",
   "metadata": {},
   "outputs": [],
   "source": []
  },
  {
   "cell_type": "code",
   "execution_count": null,
   "id": "f2aa3389",
   "metadata": {},
   "outputs": [],
   "source": []
  },
  {
   "cell_type": "code",
   "execution_count": null,
   "id": "0e140dbe",
   "metadata": {},
   "outputs": [],
   "source": []
  },
  {
   "cell_type": "code",
   "execution_count": 30,
   "id": "234ac1b9",
   "metadata": {},
   "outputs": [],
   "source": [
    "result= 200/768"
   ]
  },
  {
   "cell_type": "code",
   "execution_count": 31,
   "id": "e7d988e6",
   "metadata": {},
   "outputs": [
    {
     "data": {
      "text/plain": [
       "0.2604166666666667"
      ]
     },
     "execution_count": 31,
     "metadata": {},
     "output_type": "execute_result"
    }
   ],
   "source": [
    "result"
   ]
  },
  {
   "cell_type": "code",
   "execution_count": 39,
   "id": "6fb92e2c",
   "metadata": {},
   "outputs": [
    {
     "name": "stdout",
     "output_type": "stream",
     "text": [
      "The result was0.3\n"
     ]
    }
   ],
   "source": [
    "print(\"The result was{r:2.1f}\".format(r=result))"
   ]
  },
  {
   "cell_type": "code",
   "execution_count": 40,
   "id": "00fb861c",
   "metadata": {},
   "outputs": [],
   "source": [
    "result=600/4556"
   ]
  },
  {
   "cell_type": "raw",
   "id": "3fe9ce10",
   "metadata": {},
   "source": []
  },
  {
   "cell_type": "code",
   "execution_count": 41,
   "id": "28068b6b",
   "metadata": {},
   "outputs": [
    {
     "data": {
      "text/plain": [
       "0.13169446883230904"
      ]
     },
     "execution_count": 41,
     "metadata": {},
     "output_type": "execute_result"
    }
   ],
   "source": [
    "result"
   ]
  },
  {
   "cell_type": "code",
   "execution_count": 43,
   "id": "3726c210",
   "metadata": {},
   "outputs": [
    {
     "name": "stdout",
     "output_type": "stream",
     "text": [
      "the result was 0.131694469\n"
     ]
    }
   ],
   "source": [
    "print('the result was {r:1.9f}'.format(r=result))"
   ]
  },
  {
   "cell_type": "code",
   "execution_count": null,
   "id": "e0dbd985",
   "metadata": {},
   "outputs": [],
   "source": []
  }
 ],
 "metadata": {
  "kernelspec": {
   "display_name": "Python 3",
   "language": "python",
   "name": "python3"
  },
  "language_info": {
   "codemirror_mode": {
    "name": "ipython",
    "version": 3
   },
   "file_extension": ".py",
   "mimetype": "text/x-python",
   "name": "python",
   "nbconvert_exporter": "python",
   "pygments_lexer": "ipython3",
   "version": "3.8.8"
  }
 },
 "nbformat": 4,
 "nbformat_minor": 5
}
